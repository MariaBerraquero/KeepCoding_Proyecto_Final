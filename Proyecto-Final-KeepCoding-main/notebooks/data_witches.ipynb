{
 "cells": [
  {
   "attachments": {},
   "cell_type": "markdown",
   "metadata": {},
   "source": [
    "# Proyecto final Data Witches"
   ]
  },
  {
   "attachments": {},
   "cell_type": "markdown",
   "metadata": {},
   "source": [
    "Importamos el csv de datos"
   ]
  },
  {
   "cell_type": "code",
   "execution_count": 136,
   "metadata": {},
   "outputs": [],
   "source": [
    "import pandas as pd\n",
    "\n",
    "uncleansed_df = pd.read_csv('../airbnb-listings.csv', delimiter=\";\", low_memory=False)\n",
    "# El df original está separado por ; para que pueda leerlo bien especifico con delimiter=';' "
   ]
  },
  {
   "attachments": {},
   "cell_type": "markdown",
   "metadata": {},
   "source": [
    "Lectura de las columnas del dataframe"
   ]
  },
  {
   "cell_type": "code",
   "execution_count": 137,
   "metadata": {},
   "outputs": [
    {
     "name": "stdout",
     "output_type": "stream",
     "text": [
      "['ID', 'Listing Url', 'Scrape ID', 'Last Scraped', 'Name', 'Summary', 'Space', 'Description', 'Experiences Offered', 'Neighborhood Overview', 'Notes', 'Transit', 'Access', 'Interaction', 'House Rules', 'Thumbnail Url', 'Medium Url', 'Picture Url', 'XL Picture Url', 'Host ID', 'Host URL', 'Host Name', 'Host Since', 'Host Location', 'Host About', 'Host Response Time', 'Host Response Rate', 'Host Acceptance Rate', 'Host Thumbnail Url', 'Host Picture Url', 'Host Neighbourhood', 'Host Listings Count', 'Host Total Listings Count', 'Host Verifications', 'Street', 'Neighbourhood', 'Neighbourhood Cleansed', 'Neighbourhood Group Cleansed', 'City', 'State', 'Zipcode', 'Market', 'Smart Location', 'Country Code', 'Country', 'Latitude', 'Longitude', 'Property Type', 'Room Type', 'Accommodates', 'Bathrooms', 'Bedrooms', 'Beds', 'Bed Type', 'Amenities', 'Square Feet', 'Price', 'Weekly Price', 'Monthly Price', 'Security Deposit', 'Cleaning Fee', 'Guests Included', 'Extra People', 'Minimum Nights', 'Maximum Nights', 'Calendar Updated', 'Has Availability', 'Availability 30', 'Availability 60', 'Availability 90', 'Availability 365', 'Calendar last Scraped', 'Number of Reviews', 'First Review', 'Last Review', 'Review Scores Rating', 'Review Scores Accuracy', 'Review Scores Cleanliness', 'Review Scores Checkin', 'Review Scores Communication', 'Review Scores Location', 'Review Scores Value', 'License', 'Jurisdiction Names', 'Cancellation Policy', 'Calculated host listings count', 'Reviews per Month', 'Geolocation', 'Features']\n"
     ]
    }
   ],
   "source": [
    "print(uncleansed_df.columns.tolist())"
   ]
  },
  {
   "attachments": {},
   "cell_type": "markdown",
   "metadata": {},
   "source": [
    "Queremos quedarnos solo con los datos correspondientes a la Comunidad de Madrid"
   ]
  },
  {
   "cell_type": "code",
   "execution_count": 140,
   "metadata": {},
   "outputs": [
    {
     "name": "stdout",
     "output_type": "stream",
     "text": [
      "['Comunidad de Madrid', 'Community of Madrid', 'Madrid', 'Madrid \\nMadrid', 'Madrid, Spain', 'Região Autônoma de Madrid', 'Madrid España', 'Communauté de Madrid', 'Madrid capital', 'Autonome Gemeinschaft Madrid', 'España,Madrid']\n",
      "['Madrid', 'Delicias-Madrid', 'madrid', 'Boadilla del Monte', 'Pozuelo', 'San Lázaro', 'Madrid, Comunidad de Madrid, ES', 'Chueca', 'Pozuelo de Alarcón', 'Centro, Madrid', 'MADRID', 'Madri', nan, 'Aravaca', 'San Fernando de Henares', 'Valderrodrigo', 'las matas  madrid', 'Madrid, Comunidad de Madrid, ESPANA', 'Madrid, Vallecas (Fontarrón)', 'Delicias', 'Aravaca (Madrid)', 'Chueca, Madrid', 'Ventas', 'Centro']\n"
     ]
    }
   ],
   "source": [
    "print(uncleansed_df.State.unique().tolist())\n",
    "print(uncleansed_df.City.unique().tolist())\n",
    "\n",
    "uncleansed_df = uncleansed_df[uncleansed_df['State'].astype(str).str.contains('Madrid')]\n",
    "\n",
    "# Filtro el dataframe para seleccionar solo aquellos datos que correspondan a Madrid. Elijo utilizar la columna 'State' para ello porque resulta más fácil."
   ]
  },
  {
   "attachments": {},
   "cell_type": "markdown",
   "metadata": {},
   "source": [
    "Eliminamos aquellas columnas que no nos van a resultar útiles"
   ]
  },
  {
   "cell_type": "code",
   "execution_count": 146,
   "metadata": {},
   "outputs": [
    {
     "name": "stdout",
     "output_type": "stream",
     "text": [
      "47\n",
      "['ID', 'Host ID', 'Host Since', 'Host Listings Count', 'Host Total Listings Count', 'Street', 'Neighbourhood', 'Neighbourhood Cleansed', 'Neighbourhood Group Cleansed', 'City', 'State', 'Zipcode', 'Smart Location', 'Country', 'Latitude', 'Longitude', 'Property Type', 'Room Type', 'Accommodates', 'Bathrooms', 'Bedrooms', 'Beds', 'Bed Type', 'Square Feet', 'Price', 'Weekly Price', 'Monthly Price', 'Security Deposit', 'Cleaning Fee', 'Guests Included', 'Extra People', 'Minimum Nights', 'Maximum Nights', 'Availability 30', 'Availability 60', 'Availability 90', 'Availability 365', 'Number of Reviews', 'Review Scores Rating', 'Review Scores Accuracy', 'Review Scores Cleanliness', 'Review Scores Checkin', 'Review Scores Communication', 'Review Scores Location', 'Review Scores Value', 'Cancellation Policy', 'Calculated host listings count']\n"
     ]
    }
   ],
   "source": [
    "columns_to_remove = ['Listing Url', 'Scrape ID', 'Last Scraped', 'Name', 'Summary', 'Space', 'Description', 'Experiences Offered', 'Neighborhood Overview', \\\n",
    "                     'Notes', 'Transit', 'Access', 'Interaction', 'House Rules', 'Thumbnail Url', 'Medium Url', 'Picture Url', 'XL Picture Url', 'Host URL', \\\n",
    "                     'Host Name', 'Host Location', 'Host About', 'Host Response Time', 'Host Response Rate', 'Host Acceptance Rate', 'Host Thumbnail Url', \\\n",
    "                     'Host Picture Url', 'Host Neighbourhood', 'Host Verifications', 'Market', 'Country Code', 'Amenities', 'Calendar Updated', \\\n",
    "                     'Has Availability', 'Calendar last Scraped', 'First Review', 'Last Review', 'License', 'Jurisdiction Names', 'Reviews per Month', \\\n",
    "                     'Geolocation', 'Features']\n",
    "\n",
    "df = uncleansed_df.drop(columns_to_remove, axis = 1)\n",
    "\n",
    "print(len(df.columns))\n",
    "print(df.columns.tolist())"
   ]
  },
  {
   "attachments": {},
   "cell_type": "markdown",
   "metadata": {},
   "source": [
    "Comprobamos la solidez de los datos comprobando si hay valores nulos"
   ]
  },
  {
   "cell_type": "code",
   "execution_count": 142,
   "metadata": {},
   "outputs": [
    {
     "name": "stdout",
     "output_type": "stream",
     "text": [
      "<class 'pandas.core.frame.DataFrame'>\n",
      "Int64Index: 13198 entries, 1021 to 492520\n",
      "Data columns (total 28 columns):\n",
      " #   Column                  Non-Null Count  Dtype  \n",
      "---  ------                  --------------  -----  \n",
      " 0   ID                      13198 non-null  object \n",
      " 1   Host ID                 13198 non-null  int64  \n",
      " 2   Host Since              13195 non-null  object \n",
      " 3   Street                  13198 non-null  object \n",
      " 4   Neighbourhood           8743 non-null   object \n",
      " 5   Neighbourhood Cleansed  13198 non-null  object \n",
      " 6   City                    13196 non-null  object \n",
      " 7   State                   13198 non-null  object \n",
      " 8   Zipcode                 12758 non-null  object \n",
      " 9   Smart Location          13198 non-null  object \n",
      " 10  Latitude                13198 non-null  float64\n",
      " 11  Longitude               13198 non-null  float64\n",
      " 12  Property Type           13198 non-null  object \n",
      " 13  Room Type               13198 non-null  object \n",
      " 14  Accommodates            13198 non-null  float64\n",
      " 15  Bathrooms               13149 non-null  float64\n",
      " 16  Bedrooms                13175 non-null  float64\n",
      " 17  Beds                    13149 non-null  float64\n",
      " 18  Bed Type                13198 non-null  object \n",
      " 19  Square Feet             514 non-null    float64\n",
      " 20  Price                   13189 non-null  float64\n",
      " 21  Security Deposit        5611 non-null   float64\n",
      " 22  Cleaning Fee            7806 non-null   float64\n",
      " 23  Minimum Nights          13198 non-null  float64\n",
      " 24  Maximum Nights          13198 non-null  float64\n",
      " 25  Availability 365        13198 non-null  float64\n",
      " 26  Number of Reviews       13198 non-null  float64\n",
      " 27  Cancellation Policy     13198 non-null  object \n",
      "dtypes: float64(14), int64(1), object(13)\n",
      "memory usage: 2.9+ MB\n"
     ]
    }
   ],
   "source": [
    "df.info()"
   ]
  }
 ],
 "metadata": {
  "kernelspec": {
   "display_name": "Python 3",
   "language": "python",
   "name": "python3"
  },
  "language_info": {
   "codemirror_mode": {
    "name": "ipython",
    "version": 3
   },
   "file_extension": ".py",
   "mimetype": "text/x-python",
   "name": "python",
   "nbconvert_exporter": "python",
   "pygments_lexer": "ipython3",
   "version": "3.10.9"
  },
  "orig_nbformat": 4,
  "vscode": {
   "interpreter": {
    "hash": "c8e336edb5fc767a33fac7b7dbe7e4b0648d4cbba449a3443f777cc30ac8ea25"
   }
  }
 },
 "nbformat": 4,
 "nbformat_minor": 2
}
