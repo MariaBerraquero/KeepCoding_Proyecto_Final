{
 "cells": [
  {
   "attachments": {},
   "cell_type": "markdown",
   "metadata": {},
   "source": [
    "# <p style=\"text-align:center\"> Limpieza de datos </p>"
   ]
  },
  {
   "cell_type": "markdown",
   "metadata": {},
   "source": [
    "Importamos las librerías que vamos a utilizar"
   ]
  },
  {
   "cell_type": "code",
   "execution_count": 1,
   "metadata": {},
   "outputs": [],
   "source": [
    "import pandas as pd\n",
    "import numpy as np"
   ]
  },
  {
   "attachments": {},
   "cell_type": "markdown",
   "metadata": {},
   "source": [
    "Importamos el csv de datos"
   ]
  },
  {
   "cell_type": "code",
   "execution_count": 2,
   "metadata": {},
   "outputs": [],
   "source": [
    "uncleansed_df = pd.read_csv('../airbnb-listings.csv', delimiter=\";\", low_memory=False)\n",
    "# El df original está separado por ; para que pueda leerlo bien especifico con delimiter=';' "
   ]
  },
  {
   "attachments": {},
   "cell_type": "markdown",
   "metadata": {},
   "source": [
    "Lectura de las columnas del dataframe"
   ]
  },
  {
   "cell_type": "code",
   "execution_count": 292,
   "metadata": {},
   "outputs": [
    {
     "name": "stdout",
     "output_type": "stream",
     "text": [
      "['ID', 'Listing Url', 'Scrape ID', 'Last Scraped', 'Name', 'Summary', 'Space', 'Description', 'Experiences Offered', 'Neighborhood Overview', 'Notes', 'Transit', 'Access', 'Interaction', 'House Rules', 'Thumbnail Url', 'Medium Url', 'Picture Url', 'XL Picture Url', 'Host ID', 'Host URL', 'Host Name', 'Host Since', 'Host Location', 'Host About', 'Host Response Time', 'Host Response Rate', 'Host Acceptance Rate', 'Host Thumbnail Url', 'Host Picture Url', 'Host Neighbourhood', 'Host Listings Count', 'Host Total Listings Count', 'Host Verifications', 'Street', 'Neighbourhood', 'Neighbourhood Cleansed', 'Neighbourhood Group Cleansed', 'City', 'State', 'Zipcode', 'Market', 'Smart Location', 'Country Code', 'Country', 'Latitude', 'Longitude', 'Property Type', 'Room Type', 'Accommodates', 'Bathrooms', 'Bedrooms', 'Beds', 'Bed Type', 'Amenities', 'Square Feet', 'Price', 'Weekly Price', 'Monthly Price', 'Security Deposit', 'Cleaning Fee', 'Guests Included', 'Extra People', 'Minimum Nights', 'Maximum Nights', 'Calendar Updated', 'Has Availability', 'Availability 30', 'Availability 60', 'Availability 90', 'Availability 365', 'Calendar last Scraped', 'Number of Reviews', 'First Review', 'Last Review', 'Review Scores Rating', 'Review Scores Accuracy', 'Review Scores Cleanliness', 'Review Scores Checkin', 'Review Scores Communication', 'Review Scores Location', 'Review Scores Value', 'License', 'Jurisdiction Names', 'Cancellation Policy', 'Calculated host listings count', 'Reviews per Month', 'Geolocation', 'Features']\n"
     ]
    }
   ],
   "source": [
    "print(uncleansed_df.columns.tolist())"
   ]
  },
  {
   "attachments": {},
   "cell_type": "markdown",
   "metadata": {},
   "source": [
    "Queremos quedarnos solo con los datos correspondientes a la Comunidad de Madrid"
   ]
  },
  {
   "attachments": {},
   "cell_type": "markdown",
   "metadata": {},
   "source": [
    "###### Filtro el dataframe para seleccionar solo aquellos datos que correspondan a Madrid. Elijo utilizar la columna 'State' para ello porque resulta más fácil debido a la sintaxis utilizada al introducir los datos."
   ]
  },
  {
   "cell_type": "code",
   "execution_count": 293,
   "metadata": {},
   "outputs": [
    {
     "name": "stdout",
     "output_type": "stream",
     "text": [
      "['Comunidad de Madrid' 'Community of Madrid' 'Madrid' 'Madrid \\nMadrid'\n",
      " 'Madrid, Spain' 'Região Autônoma de Madrid' 'Madrid España'\n",
      " 'Communauté de Madrid' 'Madrid capital' 'Autonome Gemeinschaft Madrid'\n",
      " 'España,Madrid']\n",
      "-----------------------------------\n",
      "['Madrid' 'Delicias-Madrid' 'madrid' 'Boadilla del Monte' 'Pozuelo'\n",
      " 'San Lázaro' 'Madrid, Comunidad de Madrid, ES' 'Chueca'\n",
      " 'Pozuelo de Alarcón' 'Centro, Madrid' 'MADRID' 'Madri' nan 'Aravaca'\n",
      " 'San Fernando de Henares' 'Valderrodrigo' 'las matas  madrid'\n",
      " 'Madrid, Comunidad de Madrid, ESPANA' 'Madrid, Vallecas (Fontarrón)'\n",
      " 'Delicias' 'Aravaca (Madrid)' 'Chueca, Madrid' 'Ventas' 'Centro']\n"
     ]
    }
   ],
   "source": [
    "uncleansed_df = uncleansed_df[uncleansed_df['State'].astype(str).str.contains('Madrid')]\n",
    "\n",
    "print(uncleansed_df.State.unique())\n",
    "print('-----------------------------------')\n",
    "print(uncleansed_df.City.unique())"
   ]
  },
  {
   "attachments": {},
   "cell_type": "markdown",
   "metadata": {},
   "source": [
    "Eliminamos aquellas columnas que no nos van a resultar útiles"
   ]
  },
  {
   "cell_type": "code",
   "execution_count": 294,
   "metadata": {},
   "outputs": [
    {
     "name": "stdout",
     "output_type": "stream",
     "text": [
      "43\n",
      "['ID', 'Host ID', 'Host Since', 'Host Listings Count', 'Host Total Listings Count', 'Street', 'Neighbourhood', 'Neighbourhood Cleansed', 'City', 'State', 'Zipcode', 'Country', 'Latitude', 'Longitude', 'Property Type', 'Room Type', 'Bathrooms', 'Bedrooms', 'Beds', 'Bed Type', 'Square Feet', 'Price', 'Weekly Price', 'Monthly Price', 'Security Deposit', 'Cleaning Fee', 'Guests Included', 'Extra People', 'Minimum Nights', 'Maximum Nights', 'Availability 30', 'Availability 60', 'Availability 90', 'Availability 365', 'Number of Reviews', 'Review Scores Rating', 'Review Scores Accuracy', 'Review Scores Cleanliness', 'Review Scores Checkin', 'Review Scores Communication', 'Review Scores Location', 'Review Scores Value', 'Cancellation Policy']\n"
     ]
    }
   ],
   "source": [
    "columns_to_remove = ['Listing Url', 'Scrape ID', 'Last Scraped', 'Name', 'Summary', 'Space', 'Description', 'Experiences Offered', 'Neighborhood Overview', \\\n",
    "                     'Notes', 'Transit', 'Access', 'Interaction', 'House Rules', 'Thumbnail Url', 'Neighbourhood Group Cleansed','Smart Location', 'Medium Url',\\\n",
    "                     'Picture Url', 'XL Picture Url', 'Host URL', 'Host Name', 'Host Location', 'Host About', 'Host Response Time', 'Host Response Rate',\\\n",
    "                     'Host Acceptance Rate', 'Host Thumbnail Url', 'Host Picture Url', 'Host Neighbourhood', 'Host Verifications', 'Market', 'Country Code', \\\n",
    "                     'Amenities', 'Calendar Updated', 'Has Availability', 'Calendar last Scraped', 'First Review', 'Last Review', 'License', 'Accommodates', \\\n",
    "                     'Jurisdiction Names', 'Reviews per Month', 'Geolocation', 'Features', 'Calculated host listings count']\n",
    "\n",
    "df = uncleansed_df.drop(columns_to_remove, axis = 1)\n",
    "\n",
    "print(len(df.columns))\n",
    "print(df.columns.tolist())"
   ]
  },
  {
   "attachments": {},
   "cell_type": "markdown",
   "metadata": {},
   "source": [
    "Comprobamos la solidez de los datos comprobando si hay valores nulos"
   ]
  },
  {
   "cell_type": "code",
   "execution_count": 330,
   "metadata": {},
   "outputs": [
    {
     "name": "stdout",
     "output_type": "stream",
     "text": [
      "<class 'pandas.core.frame.DataFrame'>\n",
      "Int64Index: 13198 entries, 1021 to 492520\n",
      "Data columns (total 41 columns):\n",
      " #   Column                       Non-Null Count  Dtype         \n",
      "---  ------                       --------------  -----         \n",
      " 0   ID                           13198 non-null  object        \n",
      " 1   Host ID                      13198 non-null  int64         \n",
      " 2   Host Since                   13195 non-null  datetime64[ns]\n",
      " 3   Host Listings Count          13195 non-null  float64       \n",
      " 4   Street                       13198 non-null  object        \n",
      " 5   Neighbourhood Cleansed       13198 non-null  object        \n",
      " 6   City                         13196 non-null  object        \n",
      " 7   State                        13198 non-null  object        \n",
      " 8   Zipcode                      12756 non-null  object        \n",
      " 9   Country                      13198 non-null  object        \n",
      " 10  Latitude                     13198 non-null  float64       \n",
      " 11  Longitude                    13198 non-null  float64       \n",
      " 12  Property Type                13198 non-null  object        \n",
      " 13  Room Type                    13198 non-null  object        \n",
      " 14  Bathrooms                    13149 non-null  float64       \n",
      " 15  Bedrooms                     13175 non-null  float64       \n",
      " 16  Beds                         13149 non-null  float64       \n",
      " 17  Bed Type                     13198 non-null  object        \n",
      " 18  Square Feet                  514 non-null    float64       \n",
      " 19  Price                        13189 non-null  float64       \n",
      " 20  Weekly Price                 3351 non-null   float64       \n",
      " 21  Monthly Price                3306 non-null   float64       \n",
      " 22  Security Deposit             5611 non-null   float64       \n",
      " 23  Cleaning Fee                 7806 non-null   float64       \n",
      " 24  Guests Included              13198 non-null  float64       \n",
      " 25  Extra People                 13198 non-null  float64       \n",
      " 26  Minimum Nights               13198 non-null  float64       \n",
      " 27  Maximum Nights               13198 non-null  float64       \n",
      " 28  Availability 30              13198 non-null  float64       \n",
      " 29  Availability 60              13198 non-null  float64       \n",
      " 30  Availability 90              13198 non-null  float64       \n",
      " 31  Availability 365             13198 non-null  float64       \n",
      " 32  Number of Reviews            13198 non-null  float64       \n",
      " 33  Review Scores Rating         10361 non-null  float64       \n",
      " 34  Review Scores Accuracy       10343 non-null  float64       \n",
      " 35  Review Scores Cleanliness    10349 non-null  float64       \n",
      " 36  Review Scores Checkin        10333 non-null  float64       \n",
      " 37  Review Scores Communication  10349 non-null  float64       \n",
      " 38  Review Scores Location       10331 non-null  float64       \n",
      " 39  Review Scores Value          10331 non-null  float64       \n",
      " 40  Cancellation Policy          13198 non-null  object        \n",
      "dtypes: datetime64[ns](1), float64(28), int64(1), object(11)\n",
      "memory usage: 4.2+ MB\n"
     ]
    },
    {
     "data": {
      "text/plain": [
       "None"
      ]
     },
     "metadata": {},
     "output_type": "display_data"
    }
   ],
   "source": [
    "display(df.info())"
   ]
  },
  {
   "attachments": {},
   "cell_type": "markdown",
   "metadata": {},
   "source": [
    "###### * Podemos ver que la columna de 'Square Feet', 'Security Deposit' y 'Cleaning Fee' tienen muchos nulos pero es una información que queremos utilizar más adelante y no nos conviene eliminar las filas sin datos. \n",
    "###### * Las columnas de 'Weekly Price' y 'Monthly Price' tienen bastantes datos nulos, mientras que la columna 'Price' que indica el precio por día está completa. Tal vez resulte mejor utilizar esos datos.\n",
    "###### * El resto de columnas parecen tener una proporción de datos no nulos buena.\n"
   ]
  },
  {
   "attachments": {},
   "cell_type": "markdown",
   "metadata": {},
   "source": [
    "Comprobamos que hay columnas con datos repetidos"
   ]
  },
  {
   "cell_type": "code",
   "execution_count": 296,
   "metadata": {},
   "outputs": [
    {
     "name": "stdout",
     "output_type": "stream",
     "text": [
      "True     13195\n",
      "False        3\n",
      "Name: match, dtype: int64\n"
     ]
    },
    {
     "data": {
      "text/html": [
       "<div>\n",
       "<style scoped>\n",
       "    .dataframe tbody tr th:only-of-type {\n",
       "        vertical-align: middle;\n",
       "    }\n",
       "\n",
       "    .dataframe tbody tr th {\n",
       "        vertical-align: top;\n",
       "    }\n",
       "\n",
       "    .dataframe thead th {\n",
       "        text-align: right;\n",
       "    }\n",
       "</style>\n",
       "<table border=\"1\" class=\"dataframe\">\n",
       "  <thead>\n",
       "    <tr style=\"text-align: right;\">\n",
       "      <th></th>\n",
       "      <th>Host Total Listings Count</th>\n",
       "      <th>Host Listings Count</th>\n",
       "      <th>match</th>\n",
       "    </tr>\n",
       "  </thead>\n",
       "  <tbody>\n",
       "    <tr>\n",
       "      <th>256287</th>\n",
       "      <td>NaN</td>\n",
       "      <td>NaN</td>\n",
       "      <td>False</td>\n",
       "    </tr>\n",
       "    <tr>\n",
       "      <th>388849</th>\n",
       "      <td>NaN</td>\n",
       "      <td>NaN</td>\n",
       "      <td>False</td>\n",
       "    </tr>\n",
       "    <tr>\n",
       "      <th>492402</th>\n",
       "      <td>NaN</td>\n",
       "      <td>NaN</td>\n",
       "      <td>False</td>\n",
       "    </tr>\n",
       "  </tbody>\n",
       "</table>\n",
       "</div>"
      ],
      "text/plain": [
       "        Host Total Listings Count  Host Listings Count  match\n",
       "256287                        NaN                  NaN  False\n",
       "388849                        NaN                  NaN  False\n",
       "492402                        NaN                  NaN  False"
      ]
     },
     "execution_count": 296,
     "metadata": {},
     "output_type": "execute_result"
    }
   ],
   "source": [
    "df['match'] = df.apply(lambda x: x['Host Total Listings Count'] == x['Host Listings Count'], axis = 1)\n",
    "\n",
    "print(df['match'].value_counts())\n",
    "\n",
    "df[~df['match']][['Host Total Listings Count', 'Host Listings Count', 'match']]"
   ]
  },
  {
   "attachments": {},
   "cell_type": "markdown",
   "metadata": {},
   "source": [
    "###### Decidimos quedarnos con la columna de 'Neighbourhood Cleansed' frente a 'Neighbourhood' porque no hay tantos nulos y la columna repetida que observamos anteriormente."
   ]
  },
  {
   "cell_type": "code",
   "execution_count": 297,
   "metadata": {},
   "outputs": [],
   "source": [
    "df = df.drop(['Host Total Listings Count', 'Neighbourhood', 'Weekly Price', 'Monthly Price', 'match'], axis = 1)"
   ]
  },
  {
   "attachments": {},
   "cell_type": "markdown",
   "metadata": {},
   "source": [
    "Normalización de ciertas columnas en las que se detectan incidencias al examinar las columnas con unique()"
   ]
  },
  {
   "cell_type": "code",
   "execution_count": 331,
   "metadata": {},
   "outputs": [],
   "source": [
    "# Normalización del código postal\n",
    "df['Zipcode'].unique()\n",
    "replace_values = {'nan': np.nan, '-': np.nan, '28': np.nan, '-' : np.nan, '2802\\n28012' : '28012', '28002\\n28002': '28002', '28051\\n28051' : '28051', \\\n",
    "                  'Madrid 28004': '28004', '2815' : '28015', '2805' : '28005'}\n",
    "df = df.replace({'Zipcode': replace_values})\n",
    "\n",
    "# Conversión del ID de la entrada en numérico en vez de string\n",
    "df['ID'].astype(int)\n",
    "\n",
    "# Conversión de las fechas de 'Host Since' en date\n",
    "df['Host Since'] # El formato de fecha es YYYY-MM-DD\n",
    "df['Host Since'] = pd.to_datetime(df['Host Since'])"
   ]
  }
 ],
 "metadata": {
  "kernelspec": {
   "display_name": "Python 3",
   "language": "python",
   "name": "python3"
  },
  "language_info": {
   "codemirror_mode": {
    "name": "ipython",
    "version": 3
   },
   "file_extension": ".py",
   "mimetype": "text/x-python",
   "name": "python",
   "nbconvert_exporter": "python",
   "pygments_lexer": "ipython3",
   "version": "3.10.9"
  },
  "orig_nbformat": 4,
  "vscode": {
   "interpreter": {
    "hash": "c8e336edb5fc767a33fac7b7dbe7e4b0648d4cbba449a3443f777cc30ac8ea25"
   }
  }
 },
 "nbformat": 4,
 "nbformat_minor": 2
}
